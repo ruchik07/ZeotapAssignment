{
  "nbformat": 4,
  "nbformat_minor": 0,
  "metadata": {
    "colab": {
      "provenance": []
    },
    "kernelspec": {
      "name": "python3",
      "display_name": "Python 3"
    },
    "language_info": {
      "name": "python"
    }
  },
  "cells": [
    {
      "cell_type": "code",
      "execution_count": null,
      "metadata": {
        "id": "5osdv19mr4bo"
      },
      "outputs": [],
      "source": [
        "import pandas as pd\n",
        "import matplotlib.pyplot as plt\n",
        "import seaborn as sns\n"
      ]
    },
    {
      "cell_type": "markdown",
      "source": [
        "**EDA**"
      ],
      "metadata": {
        "id": "TPKV9RZA5_If"
      }
    },
    {
      "cell_type": "code",
      "source": [
        "\n",
        "# Load datasets\n",
        "customers = pd.read_csv(\"Customers.csv\")\n",
        "products = pd.read_csv(\"Products.csv\")\n",
        "transactions = pd.read_csv(\"Transactions.csv\")\n",
        "\n",
        "# Preview the data\n",
        "print(customers.head())\n",
        "print(products.head())\n",
        "print(transactions.head())\n",
        "\n",
        "# Basic statistics\n",
        "print(customers.describe())\n",
        "print(products.describe())\n",
        "print(transactions.describe())\n",
        "\n",
        "# Check for missing values\n",
        "print(customers.isnull().sum())\n",
        "print(products.isnull().sum())\n",
        "print(transactions.isnull().sum())\n",
        "\n"
      ],
      "metadata": {
        "colab": {
          "base_uri": "https://localhost:8080/"
        },
        "id": "lz7--4ElzweP",
        "outputId": "dd83fc0c-e1ff-412d-c49b-51130c07c502"
      },
      "execution_count": null,
      "outputs": [
        {
          "output_type": "stream",
          "name": "stdout",
          "text": [
            "  CustomerID        CustomerName         Region  SignupDate\n",
            "0      C0001    Lawrence Carroll  South America  2022-07-10\n",
            "1      C0002      Elizabeth Lutz           Asia  2022-02-13\n",
            "2      C0003      Michael Rivera  South America  2024-03-07\n",
            "3      C0004  Kathleen Rodriguez  South America  2022-10-09\n",
            "4      C0005         Laura Weber           Asia  2022-08-15\n",
            "           ProductID\\tProductName\\tCategory\\tPrice\n",
            "0         P001\\tActiveWear Biography\\tBooks\\t169.3\n",
            "1  P002\\tActiveWear Smartwatch\\tElectronics\\t346.3\n",
            "2      P003\\tComfortLiving Biography\\tBooks\\t44.12\n",
            "3           P004\\tBookWorld Rug\\tHome Decor\\t95.69\n",
            "4          P005\\tTechPro T-Shirt\\tClothing\\t429.31\n",
            "  TransactionID CustomerID ProductID   TransactionDate  Quantity  TotalValue  \\\n",
            "0        T00001      C0199      P067  25-08-2024 12:38         1      300.68   \n",
            "1        T00112      C0146      P067  27-05-2024 22:23         1      300.68   \n",
            "2        T00166      C0127      P067  25-04-2024 07:38         1      300.68   \n",
            "3        T00272      C0087      P067  26-03-2024 22:55         2      601.36   \n",
            "4        T00363      C0070      P067  21-03-2024 15:10         3      902.04   \n",
            "\n",
            "    Price  \n",
            "0  300.68  \n",
            "1  300.68  \n",
            "2  300.68  \n",
            "3  300.68  \n",
            "4  300.68  \n",
            "       CustomerID      CustomerName         Region  SignupDate\n",
            "count         200               200            200         200\n",
            "unique        200               200              4         179\n",
            "top         C0001  Lawrence Carroll  South America  2024-11-11\n",
            "freq            1                 1             59           3\n",
            "         ProductID\\tProductName\\tCategory\\tPrice\n",
            "count                                        100\n",
            "unique                                       100\n",
            "top     P001\\tActiveWear Biography\\tBooks\\t169.3\n",
            "freq                                           1\n",
            "          Quantity   TotalValue       Price\n",
            "count  1000.000000  1000.000000  1000.00000\n",
            "mean      2.537000   689.995560   272.55407\n",
            "std       1.117981   493.144478   140.73639\n",
            "min       1.000000    16.080000    16.08000\n",
            "25%       2.000000   295.295000   147.95000\n",
            "50%       3.000000   588.880000   299.93000\n",
            "75%       4.000000  1011.660000   404.40000\n",
            "max       4.000000  1991.040000   497.76000\n",
            "CustomerID      0\n",
            "CustomerName    0\n",
            "Region          0\n",
            "SignupDate      0\n",
            "dtype: int64\n",
            "ProductID\\tProductName\\tCategory\\tPrice    0\n",
            "dtype: int64\n",
            "TransactionID      0\n",
            "CustomerID         0\n",
            "ProductID          0\n",
            "TransactionDate    0\n",
            "Quantity           0\n",
            "TotalValue         0\n",
            "Price              0\n",
            "dtype: int64\n"
          ]
        }
      ]
    },
    {
      "cell_type": "markdown",
      "source": [
        "Perform EDA"
      ],
      "metadata": {
        "id": "qREAm9Sg0V1P"
      }
    },
    {
      "cell_type": "code",
      "source": [
        "# Plot the distribution of customers by region\n",
        "region_counts = customers['Region'].value_counts()\n",
        "region_counts.plot(kind='bar', title='Number of Customers by Region')\n",
        "plt.xlabel('Region')\n",
        "plt.ylabel('Number of Customers')\n",
        "plt.show()"
      ],
      "metadata": {
        "colab": {
          "base_uri": "https://localhost:8080/",
          "height": 560
        },
        "id": "s5pVRlIAzwqt",
        "outputId": "5351c0fa-d1f0-4fae-ee69-5a95b70af7b4"
      },
      "execution_count": null,
      "outputs": [
        {
          "output_type": "display_data",
          "data": {
            "text/plain": [
              "<Figure size 640x480 with 1 Axes>"
            ],
            "image/png": "[encoded data removed]"
          },
          "metadata": {}
        }
      ]
    },
    {
      "cell_type": "markdown",
      "source": [
        "Task 2: Lookalike **Model**"
      ],
      "metadata": {
        "id": "LtSLXvu86S6m"
      }
    },
    {
      "cell_type": "code",
      "source": [
        "print(customers.columns)\n",
        "print(products.columns)\n",
        "\n"
      ],
      "metadata": {
        "colab": {
          "base_uri": "https://localhost:8080/"
        },
        "id": "ZABKoIo65D-4",
        "outputId": "d524e26f-8dd6-463c-d73c-a90648ff969c"
      },
      "execution_count": null,
      "outputs": [
        {
          "output_type": "stream",
          "name": "stdout",
          "text": [
            "Index(['CustomerID', 'CustomerName', 'Region', 'SignupDate'], dtype='object')\n",
            "Index(['ProductID\\tProductName\\tCategory\\tPrice'], dtype='object')\n"
          ]
        }
      ]
    },
    {
      "cell_type": "code",
      "source": [
        "import pandas as pd\n",
        "from sklearn.metrics.pairwise import cosine_similarity\n",
        "\n",
        "# Load datasets\n",
        "transactions = pd.read_csv(\"Transactions.csv\")\n",
        "customers = pd.read_csv(\"Customers.csv\")\n",
        "\n",
        "# Merge datasets to create the `data` DataFrame\n",
        "data = transactions.merge(customers, on=\"CustomerID\")\n",
        "\n",
        "# Create the pivot table\n",
        "pivot_table = data.pivot_table(index=\"CustomerID\", columns=\"ProductID\", values=\"Quantity\", fill_value=0)\n",
        "\n",
        "# Calculate similarity between customers\n",
        "similarity_matrix = cosine_similarity(pivot_table)\n",
        "similarity_df = pd.DataFrame(similarity_matrix, index=pivot_table.index, columns=pivot_table.index)\n",
        "\n",
        "# Define a function to get the top 3 similar customers\n",
        "def get_top_3_similar(customer_id):\n",
        "    similar_scores = similarity_df[customer_id].sort_values(ascending=False)\n",
        "    top_customers = similar_scores.iloc[1:4]\n",
        "    return list(top_customers.index), list(top_customers.values)\n",
        "\n",
        "# Example usage: Get top 3 similar customers for \"C0001\"\n",
        "customer_id = \"C0001\"\n",
        "top_customers, scores = get_top_3_similar(customer_id)\n",
        "\n",
        "print(f\"Top 3 similar customers for {customer_id}:\")\n",
        "for cust, score in zip(top_customers, scores):\n",
        "    print(f\"Customer ID: {cust}, Similarity Score: {score:.2f}\")\n"
      ],
      "metadata": {
        "colab": {
          "base_uri": "https://localhost:8080/"
        },
        "id": "zDI3_7bWzwvn",
        "outputId": "e7b0c92d-d305-4540-a902-614b676b4d94"
      },
      "execution_count": null,
      "outputs": [
        {
          "output_type": "stream",
          "name": "stdout",
          "text": [
            "Top 3 similar customers for C0001:\n",
            "Customer ID: C0097, Similarity Score: 0.55\n",
            "Customer ID: C0194, Similarity Score: 0.47\n",
            "Customer ID: C0199, Similarity Score: 0.44\n"
          ]
        }
      ]
    },
    {
      "cell_type": "markdown",
      "source": [
        "Task 3: Customer Segmentation (Clustering)\n",
        "**bold text**"
      ],
      "metadata": {
        "id": "4mIsBzzB78oH"
      }
    },
    {
      "cell_type": "code",
      "source": [
        "from sklearn.cluster import KMeans\n",
        "import matplotlib.pyplot as plt\n",
        "\n",
        "# Prepare data for clustering\n",
        "features = customers[[\"Region\"]]\n",
        "features_encoded = pd.get_dummies(features)\n",
        "\n",
        "# Apply KMeans\n",
        "kmeans = KMeans(n_clusters=3, random_state=42)\n",
        "customers['Cluster'] = kmeans.fit_predict(features_encoded)\n",
        "\n",
        "# Visualize clusters\n",
        "plt.scatter(customers['Region'], customers['Cluster'], c=customers['Cluster'], cmap='viridis')\n",
        "plt.title(\"Customer Clusters\")\n",
        "plt.show()\n"
      ],
      "metadata": {
        "colab": {
          "base_uri": "https://localhost:8080/",
          "height": 452
        },
        "id": "al715oTJzwzr",
        "outputId": "bcea03fc-bc38-4153-8af3-4c9ea431c563"
      },
      "execution_count": null,
      "outputs": [
        {
          "output_type": "display_data",
          "data": {
            "text/plain": [
              "<Figure size 640x480 with 1 Axes>"
            ],
            "image/png": "[encoded data removed]"
          },
          "metadata": {}
        }
      ]
    },
    {
      "cell_type": "code",
      "source": [],
      "metadata": {
        "id": "WHtypUuJBU6a"
      },
      "execution_count": null,
      "outputs": []
    },
    {
      "cell_type": "code",
      "source": [],
      "metadata": {
        "id": "t7jonNBUzw5X"
      },
      "execution_count": null,
      "outputs": []
    }
  ]
}